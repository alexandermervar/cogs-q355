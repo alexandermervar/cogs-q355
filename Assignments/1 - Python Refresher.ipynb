{
 "cells": [
  {
   "cell_type": "markdown",
   "metadata": {},
   "source": [
    "# Assignment 1 - Python Refresher\n",
    "## Alexander Mervar - 1.19.20222"
   ]
  },
  {
   "cell_type": "markdown",
   "metadata": {},
   "source": [
    "### Question 1\n",
    "First, calculate the letter order of the first letter of your last name.  For example, if your last name is Smith, the letter order of “S” is 19.  Assign this integer to a variable named “myval”."
   ]
  },
  {
   "cell_type": "code",
   "execution_count": 9,
   "metadata": {},
   "outputs": [
    {
     "name": "stdout",
     "output_type": "stream",
     "text": [
      "13\n"
     ]
    }
   ],
   "source": [
    "# takes the first letter of lastName and calculates what number letter it is in the alphabet\n",
    "lastName = \"Mervar\"\n",
    "myval = ord(lastName[0]) - 64\n",
    "print(myval)"
   ]
  },
  {
   "cell_type": "markdown",
   "metadata": {},
   "source": [
    "### Question 2\n",
    "Next, using python, make a scatter plot of two clouds of points, with each cloud in different colors.  \n",
    "- The first cloud of points should be normally distributed with a nominal mean at [x,y] = [1, myval+1].  \n",
    "- The second cloud should also be normally distributed with a nominal mean at [x,y] = [myval+1, 1].  \n",
    "- The standard deviation of the clouds should be myval*0.35."
   ]
  },
  {
   "cell_type": "code",
   "execution_count": null,
   "metadata": {},
   "outputs": [],
   "source": []
  },
  {
   "cell_type": "markdown",
   "metadata": {},
   "source": [
    "### Question 3\n",
    "- Finally, using pyplot’s plot command, draw a line that separates the two point clouds as accurately as possible.  It’s ok if you can’t perfectly separate them; just draw the best boundary you can."
   ]
  },
  {
   "cell_type": "markdown",
   "metadata": {},
   "source": []
  }
 ],
 "metadata": {
  "interpreter": {
   "hash": "38a658a53124394ac0ef1c7369b293e13d105503c6978e65670dcc7433b1ca8c"
  },
  "kernelspec": {
   "display_name": "Python 3.8.5 64-bit (conda)",
   "language": "python",
   "name": "python3"
  },
  "language_info": {
   "codemirror_mode": {
    "name": "ipython",
    "version": 3
   },
   "file_extension": ".py",
   "mimetype": "text/x-python",
   "name": "python",
   "nbconvert_exporter": "python",
   "pygments_lexer": "ipython3",
   "version": "3.8.5"
  },
  "orig_nbformat": 4
 },
 "nbformat": 4,
 "nbformat_minor": 2
}
