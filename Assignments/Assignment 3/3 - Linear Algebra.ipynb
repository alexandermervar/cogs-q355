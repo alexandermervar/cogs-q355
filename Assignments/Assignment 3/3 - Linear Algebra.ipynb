{
 "cells": [
  {
   "cell_type": "markdown",
   "metadata": {},
   "source": [
    "# Assignment 3 - Linear Algebra\n",
    "## Alexander Mervar - 2.2.2022"
   ]
  },
  {
   "cell_type": "markdown",
   "metadata": {},
   "source": [
    "### Question 1\n",
    "Using Desmos.com or your favorite plotting software, plot the lines defined by each of the two equations on a graph, and then solve for x and y (2 pts)\n",
    "\n",
    "4x + 3y = 31  \n",
    "2x – 8y = ‐32"
   ]
  },
  {
   "cell_type": "code",
   "execution_count": 26,
   "metadata": {},
   "outputs": [
    {
     "data": {
      "image/png": "[encoded data removed]",
      "text/plain": [
       "<Figure size 432x288 with 1 Axes>"
      ]
     },
     "metadata": {
      "needs_background": "light"
     },
     "output_type": "display_data"
    }
   ],
   "source": [
    "import numpy as np\n",
    "import matplotlib.pyplot as plt\n",
    "from matplotlib import colors\n",
    "import math\n",
    "\n",
    "x1 = np.linspace(-5, 5, 100)\n",
    "y1 = (31 - 4*x1)/3\n",
    "\n",
    "x2 = np.linspace(-5, 5, 100)\n",
    "y2 = (-31-2*x2)/-8\n",
    "\n",
    "plt.plot(x1, y1, label='4x + 3y = 31')\n",
    "plt.plot(x2, y2, label='2x - 8y = -32')\n",
    "plt.xlabel('x', color='#1C2833')\n",
    "plt.ylabel('y', color='#1C2833')\n",
    "plt.legend(loc='upper left')\n",
    "plt.grid()\n",
    "plt.show()"
   ]
  },
  {
   "cell_type": "markdown",
   "metadata": {},
   "source": [
    "**As seen in the graph above, the intersection of the two lines is at (4,5). This can be checked by plugging the x and y values into the equations and checking their validity.**\n",
    "\n",
    "$$\n",
    "4(4) + 3(5) = 31 \\\\\n",
    "2(4) - (8(5) = -32\n",
    "$$"
   ]
  },
  {
   "cell_type": "markdown",
   "metadata": {},
   "source": [
    "### Question 2\n",
    "Write the system of equations above as a matrix multiplication expression (2 pts)"
   ]
  },
  {
   "cell_type": "markdown",
   "metadata": {},
   "source": [
    "**Below is the matrix multiplication expression.**\n",
    "\n",
    "$$\n",
    "\\begin{bmatrix}\n",
    "4 & 3\\\\ \n",
    "2 & -8\n",
    "\\end{bmatrix} *\n",
    "\\begin{bmatrix}\n",
    "x \\\\ y\n",
    "\\end{bmatrix} =\n",
    "\\begin{bmatrix}\n",
    "31 \\\\ \n",
    "-32\n",
    "\\end{bmatrix}\n",
    "$$"
   ]
  },
  {
   "cell_type": "markdown",
   "metadata": {},
   "source": [
    "### Question 3\n",
    "What is the transpose of $\\begin{bmatrix}1 & 4 & 7 \\\\ 2 & 3 & 0\\end{bmatrix}$ ? (2 pts)"
   ]
  },
  {
   "cell_type": "markdown",
   "metadata": {},
   "source": [
    "**Below is the transpose of** $\\begin{bmatrix}1 & 4 & 7 \\\\ 2 & 3 & 0\\end{bmatrix}$\n",
    "\n",
    "$$\n",
    "\\begin{bmatrix}\n",
    "1 & 2 \\\\\n",
    "4 & 3 \\\\\n",
    "7 & 0\n",
    "\\end{bmatrix}\n",
    "$$"
   ]
  },
  {
   "cell_type": "markdown",
   "metadata": {},
   "source": [
    "### Question 4\n",
    "Can you invert the matrix c= $\\begin{bmatrix}1 & 2 \\\\ 3 & 6\\end{bmatrix}$? Why or why not? (2 pts)"
   ]
  },
  {
   "cell_type": "markdown",
   "metadata": {},
   "source": [
    "**You cannot take the inverse of this matrix because the matrix is not linearly independent.** $R_2 = R_1*2$"
   ]
  },
  {
   "cell_type": "markdown",
   "metadata": {},
   "source": [
    "### Question 5\n",
    "Calculate the dot product of the vectors a = [1 4 ‐3], and b = [2 ‐4 1]. What is the angle between them, in degrees? (2 pts)"
   ]
  },
  {
   "cell_type": "markdown",
   "metadata": {},
   "source": [
    "$$\n",
    "\\begin{bmatrix}\n",
    "1 & 4 & -3\n",
    "\\end{bmatrix} \\cdot\n",
    "\\begin{bmatrix}\n",
    "2 & -4 & 1\n",
    "\\end{bmatrix} =\n",
    "2(1) - 4(4) + -3(1) = -17\n",
    "$$"
   ]
  },
  {
   "cell_type": "code",
   "execution_count": 35,
   "metadata": {},
   "outputs": [
    {
     "name": "stdout",
     "output_type": "stream",
     "text": [
      "Angle: 136.67995988980923 degrees\n"
     ]
    }
   ],
   "source": [
    "# Angle between two vectors (1 4 -3)(2 -4 1) with dot product = -17\n",
    "\n",
    "inside = -17/(np.sqrt(1**2 + 4**2 + 3**2) * np.sqrt(2**2 + 4**2 + 1**2))\n",
    "answer = math.degrees(np.arccos(inside))\n",
    "\n",
    "print(\"Angle: \" + str(answer) + \" degrees\")"
   ]
  },
  {
   "cell_type": "markdown",
   "metadata": {},
   "source": [
    "### Question 6\n",
    "A perceptron has a weight matrix of W = [1 ‐3 4] and bias b = ‐2. Using the equation V = $\\sum_{i=1}^N W_ix_i + bias$, determine whether the input pattern x = [3 5 ‐4] is sufficient to “activate” the perceptron with V > 0. (2 pts)"
   ]
  },
  {
   "cell_type": "markdown",
   "metadata": {},
   "source": [
    "$V = 3*1 + 5*-3 + -4*4 + -2 = -30$**, which is less than 0, so the perceptron does not activate.**"
   ]
  },
  {
   "cell_type": "markdown",
   "metadata": {},
   "source": [
    "### Question 7"
   ]
  },
  {
   "cell_type": "markdown",
   "metadata": {},
   "source": [
    "Using python, write a script that takes the two equations below. \n",
    "\n",
    "8x +2y = 52  \n",
    "3x – 4y = 29\n",
    "\n",
    "In your python script, do the following (3 pts):\n",
    "\n",
    "a) represent the system of equations as numpy arrays.  \n",
    "b) solve the system using matrix inversion  \n",
    "c) plot the two lines corresponding to each equation on a 2D graph using pyplot\n",
    "\n",
    "Submit your python code and the plot of question 7c to Canvas, along with your answers to the assignment."
   ]
  },
  {
   "cell_type": "code",
   "execution_count": 43,
   "metadata": {},
   "outputs": [
    {
     "name": "stdout",
     "output_type": "stream",
     "text": [
      "[[ 8  2]\n",
      " [ 3 -4]]\n",
      "[[ 0.10526316  0.05263158]\n",
      " [ 0.07894737 -0.21052632]]\n",
      "Solution of Ax = B: [ 7. -2.]\n"
     ]
    },
    {
     "data": {
      "image/png": "[encoded data removed]",
      "text/plain": [
       "<Figure size 432x288 with 1 Axes>"
      ]
     },
     "metadata": {
      "needs_background": "light"
     },
     "output_type": "display_data"
    }
   ],
   "source": [
    "matrixList = [[8, 2],[3, -4]]\n",
    "A = np.array(matrixList)\n",
    "print(A)\n",
    "\n",
    "invA = np.linalg.inv(A)\n",
    "print(invA)\n",
    "\n",
    "B = np.array([52,29])\n",
    "\n",
    "X = np.dot(invA, B)\n",
    "\n",
    "print(\"Solution of Ax = B: \" + str(X))\n",
    "\n",
    "x1 = np.linspace(-11, 11, 100)\n",
    "y1 = (52-8*x1)/2\n",
    "\n",
    "x2 = np.linspace(-11, 11, 100)\n",
    "y2 = (29-3*x2)/-4\n",
    "\n",
    "plt.plot(x1, y1, label='8x +2y = 52')\n",
    "plt.plot(x2, y2, label='3x – 4y = 29')\n",
    "plt.xlabel('x', color='#1C2833')\n",
    "plt.ylabel('y', color='#1C2833')\n",
    "plt.legend(loc='upper left')\n",
    "plt.grid()\n",
    "plt.show()\n"
   ]
  }
 ],
 "metadata": {
  "interpreter": {
   "hash": "38a658a53124394ac0ef1c7369b293e13d105503c6978e65670dcc7433b1ca8c"
  },
  "kernelspec": {
   "display_name": "Python 3.8.5 64-bit (conda)",
   "language": "python",
   "name": "python3"
  },
  "language_info": {
   "codemirror_mode": {
    "name": "ipython",
    "version": 3
   },
   "file_extension": ".py",
   "mimetype": "text/x-python",
   "name": "python",
   "nbconvert_exporter": "python",
   "pygments_lexer": "ipython3",
   "version": "3.8.5"
  },
  "orig_nbformat": 4
 },
 "nbformat": 4,
 "nbformat_minor": 2
}
