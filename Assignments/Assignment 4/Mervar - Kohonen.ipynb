{
 "cells": [
  {
   "cell_type": "markdown",
   "metadata": {},
   "source": [
    "# Mervar - Kohonen Maps\n",
    "### Alexander Mervar\n",
    "### Professor Brown\n",
    "### COGS-Q 355 SP22\n",
    "### 2.9.2022"
   ]
  },
  {
   "cell_type": "markdown",
   "metadata": {},
   "source": [
    "Consider a Kohonen self organizing feature map (SOFM), as described in Kohonen (1982). Consider a map with 2500 elements arranged in a 50x50 rectangular grid (matrix). Each input vector has 3 elements in the continuous range of [0,1] that correspond to a signal of one of the primary colors (red, green, blue). For example, (1, 0, 0) is an input pattern that corresponds to the color red."
   ]
  },
  {
   "cell_type": "markdown",
   "metadata": {},
   "source": [
    "Implement a simple SOFM in python following the equations described in Kohonen (1982), but simplified as follows. Assume a weight matrix W of dimensions 50x50x3, that connects each input to each SOFM unit. The input to each SOFM unit is the external input plus the lateral input:\n",
    "- External Input = W * inputs (Equation 4 in Kohonen (1982))\n",
    "- Activity from A (from perspective of B):\n",
    "  - a * 8 ; If euclidean distance is between A and B < 3\n",
    "  - a * -1 ; if euclidean distance is between A and B is > 3 < 8\n",
    "  - 0 otherwise\n",
    "- The total activity $\\eta$ (\"eta\") of each SOFM is a piece-wise sigmoid\n",
    "  - 0 if the sum of the external and lateral input is <= 0\n",
    "  - 5 if the sum of the external and lateral input is >= 5\n",
    "  - The sum of the external and lateral input, otherwise\n",
    "- Weights W from the external inputs to the SOFM units are adjusted by the following rule\n",
    "  - W(t+1) = (W(t) + learning*eta*inputs)/(the euclidean length of the input weights to the SOFM unit)\n",
    "  - learning = 0.01"
   ]
  },
  {
   "cell_type": "code",
   "execution_count": null,
   "metadata": {},
   "outputs": [],
   "source": [
    "import random\n",
    "import numpy as np\n",
    "import matplotlib.pyplot as plt\n",
    "from matplotlib import colors\n",
    "from math import dist\n",
    "\n",
    "learningRate = 0.01\n",
    "\n",
    "# Define an random 50x50x3 array\n",
    "weightMatrix = np.random.random((50, 50, 3))\n",
    "\n",
    "# Traverse the 5x50x3 matrix\n",
    "for i in range(50):\n",
    "    #\n",
    "    for j in range(50):\n",
    "        #\n",
    "        for k in range(3):\n",
    "            # "
   ]
  },
  {
   "cell_type": "code",
   "execution_count": 2,
   "metadata": {},
   "outputs": [
    {
     "ename": "IndentationError",
     "evalue": "expected an indented block (<ipython-input-2-aa82ee631ac5>, line 58)",
     "output_type": "error",
     "traceback": [
      "\u001b[0;36m  File \u001b[0;32m\"<ipython-input-2-aa82ee631ac5>\"\u001b[0;36m, line \u001b[0;32m58\u001b[0m\n\u001b[0;31m    def updateWeights(self, x, y, w1, w2, w3, x2, y2):\u001b[0m\n\u001b[0m    ^\u001b[0m\n\u001b[0;31mIndentationError\u001b[0m\u001b[0;31m:\u001b[0m expected an indented block\n"
     ]
    }
   ],
   "source": [
    "import random\n",
    "import numpy as np\n",
    "import matplotlib.pyplot as plt\n",
    "from matplotlib import colors\n",
    "from math import dist\n",
    "\n",
    "class SOFM():\n",
    "\n",
    "    learningRate = 0.01\n",
    "\n",
    "    # Define a self-organizing feature map of size x*y with each SOFM unit having n weights\n",
    "    def __init__(self, x, y, numWeights):\n",
    "        self.x = x\n",
    "        self.y = y\n",
    "        self.weights = numWeights\n",
    "        map = np.zeros((numWeights, x, y))\n",
    "\n",
    "    # Initialize the weights of the SOFM with 3 rations\n",
    "    # Note: The wights are cumulative, i.e. the third weight is the sum of the first two weights\n",
    "    # So a map of 1/3 red and 2/3 green is initialized as follows: [0.33, 1.0, 1.0]\n",
    "    # A map of 1/3 red and 2/3 blue is initialized as follows: [0.33, 0.33 1.0]\n",
    "    def initializeWeights(self, red, green, blue):\n",
    "        # traverse each of the 3 weights attached to each particular SOFM unit\n",
    "        for i in range(self.x):\n",
    "            for j in range(self.y):\n",
    "                # Assign a random value between 0 and 1\n",
    "                random = random.random()\n",
    "                # Assign a value to one of the three weights depending on the ratio\n",
    "                if random < red:\n",
    "                    self.map[0][i][j] = 1\n",
    "                    self.map[1][i][j] = 0\n",
    "                    self.map[2][i][j] = 0\n",
    "                elif random < green:\n",
    "                    self.map[0][i][j] = 0\n",
    "                    self.map[1][i][j] = 1\n",
    "                    self.map[2][i][j] = 0\n",
    "                elif random < blue:\n",
    "                    self.map[0][i][j] = 0\n",
    "                    self.map[1][i][j] = 0\n",
    "                    self.map[2][i][j] = 1\n",
    "\n",
    "    # Get the euclidean distance between two points\n",
    "    def getDistance(self, x1, y1, x2, y2):\n",
    "        point1 = (x1, y1)\n",
    "        point2 = (x2, y2)\n",
    "        return dist(point1, point2)\n",
    "\n",
    "    # TODO\n",
    "    # Get internal input\n",
    "    def getInternalInput(self, x, y):\n",
    "        return self.map[0][x][y] + self.map[1][x][y] + self.map[2][x][y]\n",
    "\n",
    "    # TODO\n",
    "    # Get external input\n",
    "    def getLateralInput(self, x, y):\n",
    "        # return a 1x3 vector of the weights of the SOFM unit\n",
    "\n",
    "    #TODO\n",
    "    # Calculate the eta of the SOFM\n",
    "    def getEta(self, x1, y1, x2, y2):\n",
    "        if (getInternalInput(x1, y1) + getLateralInput(x1, y1, x2, y2) <= 0):\n",
    "            return 0\n",
    "        elif (getInternalInput(x1, y1) + getLateralInput(x1, y1, x2, y2) >= 5):\n",
    "            return 5\n",
    "        else:\n",
    "            return getInternalInput(x1, y1) + getLateralInput(x1, y1, x2, y2)\n",
    "    \n",
    "    # Get the RGB color of the particular SOFM unit\n",
    "    def getColor(self, x, y):\n",
    "        return (self.map[0][x][y] * 255, self.map[1][x][y] * 255, self.map[2][x][y] * 255)\n",
    "\n",
    "    \n",
    "    # Update weights\n",
    "    def updateWeights(self, x, y, w1, w2, w3, x2, y2):\n",
    "        # Update the weights of the SOFM unit\n",
    "        self.map[0][x][y] = (self.map[0][x][y] + self.learningRate * getEta(x,y,x2,y2) * w1)/self.getDistance(x, y, x2, y2)\n",
    "        self.map[1][x][y] = (self.map[1][x][y] + self.learningRate * getEta(x,y,x2,y2) * w2)/self.getDistance(x, y, x2, y2)\n",
    "        self.map[2][x][y] = (self.map[2][x][y] + self.learningRate * getEta(x,y,x2,y2) * w3)/self.getDistance(x, y, x2, y2)\n",
    "\n",
    "    # View the SOFM map\n",
    "    def viewMap(self):\n",
    "        image = np.zeros((self.x, self.y))\n",
    "        for i in range(self.x):\n",
    "            for j in range(self.y):\n",
    "                image[i][j] = self.getColor(i, j)\n",
    "        plt.imshow(image)"
   ]
  }
 ],
 "metadata": {
  "interpreter": {
   "hash": "38a658a53124394ac0ef1c7369b293e13d105503c6978e65670dcc7433b1ca8c"
  },
  "kernelspec": {
   "display_name": "Python 3.8.5",
   "language": "python",
   "name": "python3"
  },
  "language_info": {
   "codemirror_mode": {
    "name": "ipython",
    "version": 3
   },
   "file_extension": ".py",
   "mimetype": "text/x-python",
   "name": "python",
   "nbconvert_exporter": "python",
   "pygments_lexer": "ipython3",
   "version": "3.8.5"
  },
  "orig_nbformat": 4
 },
 "nbformat": 4,
 "nbformat_minor": 2
}
