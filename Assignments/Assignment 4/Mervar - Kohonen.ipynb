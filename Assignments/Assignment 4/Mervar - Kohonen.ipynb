{
 "cells": [
  {
   "cell_type": "markdown",
   "metadata": {},
   "source": [
    "# Mervar - Kohonen Maps\n",
    "### Alexander Mervar\n",
    "### Professor Brown\n",
    "### COGS-Q 355 SP22\n",
    "### 2.9.2022"
   ]
  },
  {
   "cell_type": "markdown",
   "metadata": {},
   "source": [
    "Consider a Kohonen self organizing feature map (SOFM), as described in Kohonen (1982). Consider a map with 2500 elements arranged in a 50x50 rectangular grid (matrix). Each input vector has 3 elements in the continuous range of [0,1] that correspond to a signal of one of the primary colors (red, green, blue). For example, (1, 0, 0) is an input pattern that corresponds to the color red."
   ]
  },
  {
   "cell_type": "markdown",
   "metadata": {},
   "source": [
    "Implement a simple SOFM in python following the equations described in Kohonen (1982), but simplified as follows. Assume a weight matrix W of dimensions 50x50x3, that connects each input to each SOFM unit. The input to each SOFM unit is the external input plus the lateral input:\n",
    "- External Input = W * inputs (Equation 4 in Kohonen (1982))\n",
    "- Activity from A (from perspective of B):\n",
    "  - a * 8 ; If euclidean distance is between A and B < 3\n",
    "  - a * -1 ; if euclidean distance is between A and B is > 3 < 8\n",
    "  - 0 otherwise\n",
    "- The total activity $\\eta$ (\"eta\") of each SOFM is a piece-wise sigmoid\n",
    "  - 0 if the sum of the external and lateral input is <= 0\n",
    "  - 5 if the sum of the external and lateral input is >= 5\n",
    "  - The sum of the external and lateral input, otherwise\n",
    "- Weights W from the external inputs to the SOFM units are adjusted by the following rule\n",
    "  - W(t+1) = (W(t) + learning*eta*inputs)/(the euclidean length of the input weights to the SOFM unit)\n",
    "  - learning = 0.01"
   ]
  },
  {
   "cell_type": "code",
   "execution_count": 2,
   "metadata": {},
   "outputs": [
    {
     "name": "stderr",
     "output_type": "stream",
     "text": [
      "Clipping input data to the valid range for imshow with RGB data ([0..1] for floats or [0..255] for integers).\n"
     ]
    },
    {
     "data": {
      "image/png": "[encoded data removed]",
      "text/plain": [
       "<Figure size 720x720 with 1 Axes>"
      ]
     },
     "metadata": {
      "needs_background": "light"
     },
     "output_type": "display_data"
    }
   ],
   "source": [
    "import random\n",
    "import numpy as np\n",
    "import matplotlib.pyplot as plt\n",
    "from matplotlib import colors\n",
    "from math import dist\n",
    "\n",
    "fig, ax = plt.subplots(figsize=(10,10))\n",
    "\n",
    "# Define Learning Rate\n",
    "learningRate = 0.01\n",
    "\n",
    "# Define weight matrix size\n",
    "# TODO: Change to fit assignment\n",
    "xSize = 10\n",
    "ySize = 10\n",
    "weightVectorSize = 3\n",
    "\n",
    "# Define Frequency of Input Vectors\n",
    "# TODO: Change to fit assignment\n",
    "redFrequency = 1/3\n",
    "greenFrequency = 2/3\n",
    "blueFrequency  = 0\n",
    "\n",
    "# Define the number of iterations\n",
    "# TODO: Change to fit assignment\n",
    "iterations = 500\n",
    "\n",
    "\n",
    "# Define an random X*Y*WV array\n",
    "weightMatrix = np.random.random((xSize, ySize, weightVectorSize))\n",
    "\n",
    "for i in range(iterations):\n",
    "    # Define a random input vector\n",
    "    inputVectorSelector = random.random()\n",
    "\n",
    "    # Create input vector\n",
    "    if inputVectorSelector < redFrequency:\n",
    "        inputVector = [1, 0, 0]\n",
    "    elif inputVectorSelector < greenFrequency:\n",
    "        inputVector = [0, 1, 0]\n",
    "    else:\n",
    "        inputVector = [0, 0, 1]\n",
    "\n",
    "    # Traverse the matrix\n",
    "    for j in range(xSize):\n",
    "        for k in range(ySize):\n",
    "            # Select the SOFM Unit\n",
    "            selectedUnit = weightMatrix[j,k]\n",
    "\n",
    "            # Calculate the external input (The dot product of the input vector and the weight vector)\n",
    "            externalInput = np.dot(inputVector, selectedUnit)\n",
    "\n",
    "            # Calculate the lateral input for the selected unit\n",
    "            lateralInputSelectedUnit = externalInput * 8\n",
    "\n",
    "            # Calculate the eta of the selcted unit\n",
    "            if (lateralInputSelectedUnit + externalInput <= 0):\n",
    "                eta = 0\n",
    "            elif (lateralInputSelectedUnit + externalInput >= 5):\n",
    "                eta = 5\n",
    "            else:\n",
    "                eta = lateralInputSelectedUnit + externalInput\n",
    "\n",
    "\n",
    "            # Calculate the new weight vector for the selected unit\n",
    "            for l in range(weightVectorSize):\n",
    "                weightMatrix[j,k,l] = (weightMatrix[j,k,l] + learningRate * eta * (lateralInputSelectedUnit + externalInput))/dist(inputVector, selectedUnit)\n",
    "\n",
    "            # Traverse to every other unit\n",
    "            for l in range(xSize):\n",
    "                for m in range(ySize):\n",
    "                    if (i == l & j == m):\n",
    "                        continue\n",
    "                    else:\n",
    "                        # Select a new SOFM Unit\n",
    "                        selectedUnit2 = weightMatrix[l,m]\n",
    "\n",
    "                        # TODO: Add wrap-around mechanic\n",
    "                        # Calculate the lateral input\n",
    "                        if (dist((j,k), (l,m)) < 3):\n",
    "                            lateralInput = eta * 8\n",
    "                        elif (8 > dist((j,k), (l,m)) > 3):\n",
    "                            lateralInput = eta * -1\n",
    "                        else:\n",
    "                            lateralInput = 0\n",
    "\n",
    "                        # Calculate the external input\n",
    "                        externalInput2 = np.dot(weightMatrix[j,k], selectedUnit2)\n",
    "\n",
    "                        # Calculate the change in weights\n",
    "                        for n in range(weightVectorSize):\n",
    "                            weightMatrix[l,m,n] = (weightMatrix[l,m,n] + learningRate * eta * (lateralInput + externalInput2))/dist(inputVector, selectedUnit2)\n",
    "\n",
    "# Produce an Image\n",
    "plt.imshow(weightMatrix)\n",
    "\n",
    "plt.show()\n",
    "\n",
    "ax.set_title(\"Mervar Kohonen Map\")\n",
    "\n",
    "fig.canvas.draw()\n",
    "\n",
    "fig.canvas.flush_events()"
   ]
  }
 ],
 "metadata": {
  "interpreter": {
   "hash": "38a658a53124394ac0ef1c7369b293e13d105503c6978e65670dcc7433b1ca8c"
  },
  "kernelspec": {
   "display_name": "Python 3.8.5",
   "language": "python",
   "name": "python3"
  },
  "language_info": {
   "codemirror_mode": {
    "name": "ipython",
    "version": 3
   },
   "file_extension": ".py",
   "mimetype": "text/x-python",
   "name": "python",
   "nbconvert_exporter": "python",
   "pygments_lexer": "ipython3",
   "version": "3.8.5"
  },
  "orig_nbformat": 4
 },
 "nbformat": 4,
 "nbformat_minor": 2
}
