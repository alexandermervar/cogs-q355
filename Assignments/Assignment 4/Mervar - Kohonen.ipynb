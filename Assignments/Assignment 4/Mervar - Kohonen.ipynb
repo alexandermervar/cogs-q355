{
 "cells": [
  {
   "cell_type": "markdown",
   "metadata": {},
   "source": [
    "# Mervar - Kohonen Maps\n",
    "### Alexander Mervar\n",
    "### Professor Brown\n",
    "### COGS-Q 355 SP22\n",
    "### 2.9.2022"
   ]
  },
  {
   "cell_type": "markdown",
   "metadata": {},
   "source": [
    "Consider a Kohonen self organizing feature map (SOFM), as described in Kohonen (1982). Consider a map with 2500 elements arranged in a 50x50 rectangular grid (matrix). Each input vector has 3 elements in the continuous range of [0,1] that correspond to a signal of one of the primary colors (red, green, blue). For example, (1, 0, 0) is an input pattern that corresponds to the color red."
   ]
  },
  {
   "cell_type": "markdown",
   "metadata": {},
   "source": [
    "Implement a simple SOFM in python following the equations described in Kohonen (1982), but simplified as follows. Assume a weight matrix W of dimensions 50x50x3, that connects each input to each SOFM unit. The input to each SOFM unit is the external input plus the lateral input:\n",
    "- External Input = W * inputs (Equation 4 in Kohonen (1982))\n",
    "- Activity from A (from perspective of B):\n",
    "  - a * 8 ; If euclidean distance is between A and B < 3\n",
    "  - a * -1 ; if euclidean distance is between A and B is > 3 < 8\n",
    "  - 0 otherwise\n",
    "- The total activity $\\eta$ (\"eta\") of each SOFM is a piece-wise sigmoid\n",
    "  - 0 if the sum of the external and lateral input is <= 0\n",
    "  - 5 if the sum of the external and lateral input is >= 5\n",
    "  - The sum of the external and lateral input, otherwise\n",
    "- Weights W from the external inputs to the SOFM units are adjusted by the following rule\n",
    "  - W(t+1) = (W(t) + learning*eta*inputs)/(the euclidean length of the input weights to the SOFM unit)\n",
    "  - learning = 0.01"
   ]
  },
  {
   "cell_type": "code",
   "execution_count": null,
   "metadata": {},
   "outputs": [],
   "source": [
    "import random\n",
    "import numpy as np\n",
    "import matplotlib.pyplot as plt\n",
    "from matplotlib import colors\n",
    "from math import dist\n",
    "\n",
    "fig, ax = plt.subplots(figsize=(1,1))\n",
    "\n",
    "# Define Learning Rate\n",
    "learningRate = 0.01\n",
    "\n",
    "# Define weight matrix size\n",
    "xSixe = 50\n",
    "ySize = 50\n",
    "weightVectorSize = 3\n",
    "\n",
    "# Define Frequency of Input Vectors\n",
    "redFrequency = 0.3333\n",
    "greenFrequency = 0.6666\n",
    "blueFrequency  = 1 - greenFrequency\n",
    "\n",
    "\n",
    "# Define an random X*Y*WV array\n",
    "weightMatrix = np.random.random((xSize, ySize, weightVectorSize))\n",
    "\n",
    "# Traverse the matrix\n",
    "for i in range(50):\n",
    "    #\n",
    "    for j in range(50):\n",
    "        # Define the input vector\n",
    "        for k in range(3):\n",
    "            # \n",
    "\n",
    "plt.imshow(weightMatrix)\n",
    "\n",
    "plt.show()\n",
    "\n",
    "# ax.set_title('%f'%(count))\n",
    "\n",
    "fig.canvas.draw()\n",
    "\n",
    "fig.canvas.flush_events()"
   ]
  }
 ],
 "metadata": {
  "interpreter": {
   "hash": "38a658a53124394ac0ef1c7369b293e13d105503c6978e65670dcc7433b1ca8c"
  },
  "kernelspec": {
   "display_name": "Python 3.8.5",
   "language": "python",
   "name": "python3"
  },
  "language_info": {
   "codemirror_mode": {
    "name": "ipython",
    "version": 3
   },
   "file_extension": ".py",
   "mimetype": "text/x-python",
   "name": "python",
   "nbconvert_exporter": "python",
   "pygments_lexer": "ipython3",
   "version": "3.8.5"
  },
  "orig_nbformat": 4
 },
 "nbformat": 4,
 "nbformat_minor": 2
}
