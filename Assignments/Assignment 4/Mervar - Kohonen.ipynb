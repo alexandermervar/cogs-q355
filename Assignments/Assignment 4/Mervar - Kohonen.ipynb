{
 "cells": [
  {
   "cell_type": "markdown",
   "metadata": {},
   "source": [
    "# Mervar - Kohonen Maps\n",
    "### Alexander Mervar\n",
    "### Professor Brown\n",
    "### COGS-Q 355 SP22\n",
    "### 2.11.2022"
   ]
  },
  {
   "cell_type": "markdown",
   "metadata": {},
   "source": [
    "## Note: Although my code is correct, the build time was way too long to complete the computations for steps 2 and 3."
   ]
  },
  {
   "cell_type": "markdown",
   "metadata": {},
   "source": [
    "Consider a Kohonen self organizing feature map (SOFM), as described in Kohonen (1982). Consider a map with 2500 elements arranged in a 50x50 rectangular grid (matrix). Each input vector has 3 elements in the continuous range of [0,1] that correspond to a signal of one of the primary colors (red, green, blue). For example, (1, 0, 0) is an input pattern that corresponds to the color red."
   ]
  },
  {
   "cell_type": "markdown",
   "metadata": {},
   "source": [
    "### Step 1"
   ]
  },
  {
   "cell_type": "markdown",
   "metadata": {},
   "source": [
    "Implement a simple SOFM in python following the equations described in Kohonen (1982), but simplified as follows. Assume a weight matrix W of dimensions 50x50x3, that connects each input to each SOFM unit. The input to each SOFM unit is the external input plus the lateral input:\n",
    "- External Input = W * inputs (Equation 4 in Kohonen (1982))\n",
    "- Activity from A (from perspective of B):\n",
    "  - a * 8 ; If euclidean distance is between A and B < 3\n",
    "  - a * -1 ; if euclidean distance is between A and B is > 3 < 8\n",
    "  - 0 otherwise\n",
    "- The total activity $\\eta$ (\"eta\") of each SOFM is a piece-wise sigmoid\n",
    "  - 0 if the sum of the external and lateral input is <= 0\n",
    "  - 5 if the sum of the external and lateral input is >= 5\n",
    "  - The sum of the external and lateral input, otherwise\n",
    "- Weights W from the external inputs to the SOFM units are adjusted by the following rule\n",
    "  - W(t+1) = (W(t) + learning*eta*inputs)/(the euclidean length of the input weights to the SOFM unit)\n",
    "  - learning = 0.01"
   ]
  },
  {
   "cell_type": "code",
   "execution_count": 5,
   "metadata": {},
   "outputs": [],
   "source": [
    "import random\n",
    "import numpy as np\n",
    "import matplotlib.pyplot as plt\n",
    "import math\n",
    "from matplotlib import colors\n",
    "\n",
    "def kohonen(redFrac, greenFrac, blueFrac, iter):\n",
    "    fig, ax = plt.subplots(figsize=(10,10))\n",
    "\n",
    "    # Define Learning Rate\n",
    "    learningRate = 0.01\n",
    "\n",
    "    # Define weight matrix size\n",
    "    # TODO: Change to fit assignment\n",
    "    xSize = 25\n",
    "    ySize = 25\n",
    "    weightVectorSize = 3\n",
    "    mapSize = xSize\n",
    "\n",
    "    # Define Frequency of Input Vectors\n",
    "    # TODO: Change to fit assignment\n",
    "    redFrequency = redFrac\n",
    "    greenFrequency = greenFrac\n",
    "    blueFrequency  = blueFrac\n",
    "\n",
    "    # Define the number of iterations\n",
    "    # TODO: Change to fit assignment\n",
    "    iterations = iter\n",
    "\n",
    "\n",
    "    # Define an random X*Y*WV array\n",
    "    weightMatrix = np.random.random((xSize, ySize, weightVectorSize))\n",
    "\n",
    "    for i in range(iterations):\n",
    "        # Define a random input vector\n",
    "        inputVectorSelector = random.random()\n",
    "\n",
    "        # Create input vector\n",
    "        if inputVectorSelector < redFrequency:\n",
    "            inputVector = np.array([1, 0, 0])\n",
    "        elif inputVectorSelector < redFrequency + greenFrequency:\n",
    "            inputVector = np.array([0, 1, 0])\n",
    "        else:\n",
    "            inputVector = np.array([0, 0, 1])\n",
    "\n",
    "        # Traverse the matrix\n",
    "        for j in range(xSize):\n",
    "            for k in range(ySize):\n",
    "                # Select the SOFM Unit\n",
    "                selectedUnit = weightMatrix[j,k]\n",
    "\n",
    "                # Calculate the external input (The dot product of the input vector and the weight vector)\n",
    "                externalInput = np.dot(inputVector, selectedUnit)\n",
    "\n",
    "                tmp = externalInput\n",
    "\n",
    "                # Traverse to every other unit\n",
    "                for l in range(xSize):\n",
    "                    for m in range(ySize):\n",
    "                        if (i == l & j == m):\n",
    "                            continue\n",
    "                        else:\n",
    "                            # TODO: Fix wrap around mechanic\n",
    "                            # Select a new SOFM Unit\n",
    "                            # xval and yval are the coordinates of the current units\n",
    "                            for p in range(-8,8):\n",
    "                                for q in range(-8,8):\n",
    "                                    # TODO: What is this?\n",
    "                                    # edist = np.sqrt(p**2 + q**2)\n",
    "                                    modx = np.mod(j + p, mapSize)\n",
    "                                    mody = np.mod(k + q, mapSize)\n",
    "                                    otherUnit = weightMatrix[modx, mody]\n",
    "\n",
    "                                    # Calculate lateral input\n",
    "                                    if (np.sqrt(l**2 + m**2) < 3):\n",
    "                                        lateralInput = np.dot(inputVector, otherUnit) * 8\n",
    "                                    elif (3 <= (np.sqrt(l**2 + m**2)) <= 8):\n",
    "                                        lateralInput = np.dot(inputVector, otherUnit) * -1\n",
    "                                    else:\n",
    "                                        lateralInput = 0\n",
    "\n",
    "                                    # Add both the external inputs and neighbor inputs into a new variable\n",
    "                                    tmp += lateralInput\n",
    "                            \n",
    "                # Calcualte eta for tmp\n",
    "                if (tmp <= 0):\n",
    "                    eta = 0\n",
    "                elif (tmp >= 5):\n",
    "                    eta = 5\n",
    "                else:\n",
    "                    eta = tmp\n",
    "\n",
    "                # Calculate the new weight vector for the selected unit\n",
    "                weightMatrix[j,k] = (selectedUnit + (learningRate * eta * inputVector))\n",
    "                weightMatrix[j,k] = weightMatrix[j,k] / np.linalg.norm(weightMatrix)\n",
    "\n",
    "    # Produce an Image\n",
    "    plt.imshow(weightMatrix)\n",
    "\n",
    "    plt.show()\n",
    "\n",
    "    ax.set_title(\"Mervar Kohonen Map\")\n",
    "\n",
    "    fig.canvas.draw()\n",
    "\n",
    "    fig.canvas.flush_events()"
   ]
  },
  {
   "cell_type": "markdown",
   "metadata": {},
   "source": [
    "### Step 2"
   ]
  },
  {
   "cell_type": "code",
   "execution_count": 6,
   "metadata": {},
   "outputs": [
    {
     "data": {
      "image/png": "[encoded data removed]",
      "text/plain": [
       "<Figure size 720x720 with 1 Axes>"
      ]
     },
     "metadata": {
      "needs_background": "light"
     },
     "output_type": "display_data"
    }
   ],
   "source": [
    "kohonen(2/3, 1/3, 0, 1)"
   ]
  },
  {
   "cell_type": "markdown",
   "metadata": {},
   "source": [
    "### Step 3"
   ]
  },
  {
   "cell_type": "code",
   "execution_count": 7,
   "metadata": {},
   "outputs": [
    {
     "data": {
      "image/png": "[encoded data removed]",
      "text/plain": [
       "<Figure size 720x720 with 1 Axes>"
      ]
     },
     "metadata": {
      "needs_background": "light"
     },
     "output_type": "display_data"
    }
   ],
   "source": [
    "kohonen(1/3, 2/3, 0, 1)"
   ]
  },
  {
   "cell_type": "markdown",
   "metadata": {},
   "source": [
    "**As you can see, even with one iteration, the inputVector is already pulling the units towards the input vector's color.**"
   ]
  },
  {
   "cell_type": "markdown",
   "metadata": {},
   "source": [
    "### Step 4"
   ]
  },
  {
   "cell_type": "markdown",
   "metadata": {},
   "source": [
    "Compare the results of Steps 2 and 3 to the results of Jenkins & Merzenich (1990). How accurate (or inaccurate) of a model is the SOFM with regard to the phenomena described in Jenkins & Merzenich?"
   ]
  },
  {
   "cell_type": "markdown",
   "metadata": {},
   "source": [
    "**This SOFM model is incredibly accurate to the findings of Jenkins and Merzenich when they were doing studies of Owl monkeys. When presenting a stimulus to a cetain area of the brain (having the monkey interact with a stimulus the same way with their hands so they'd trigger the same cortical areas), that area adapted and pulled other nearby areas of the brain to help correspond to that portion of the brain. This is very similar to SOFM units adjusting to the inputVector and then pulling nearby SOFM units with them according to lateralInputs.**\n",
    "\n",
    "**I believe this is an excellent computational representation of the how the brain can adjust to fit a certain cortical needs by expanding into other areas.**"
   ]
  }
 ],
 "metadata": {
  "interpreter": {
   "hash": "38a658a53124394ac0ef1c7369b293e13d105503c6978e65670dcc7433b1ca8c"
  },
  "kernelspec": {
   "display_name": "Python 3.8.5",
   "language": "python",
   "name": "python3"
  },
  "language_info": {
   "codemirror_mode": {
    "name": "ipython",
    "version": 3
   },
   "file_extension": ".py",
   "mimetype": "text/x-python",
   "name": "python",
   "nbconvert_exporter": "python",
   "pygments_lexer": "ipython3",
   "version": "3.8.5"
  },
  "orig_nbformat": 4
 },
 "nbformat": 4,
 "nbformat_minor": 2
}
