{
 "cells": [
  {
   "cell_type": "markdown",
   "metadata": {},
   "source": [
    "# Mervar - Backpropagation\n",
    "## 2.16.2022\n",
    "\n",
    "**1. Submit a copy of your python code.**"
   ]
  },
  {
   "cell_type": "code",
   "execution_count": 1,
   "metadata": {},
   "outputs": [
    {
     "name": "stdout",
     "output_type": "stream",
     "text": [
      "Error: 0.49641003190272537\n",
      "Error: 0.008584525653247153\n",
      "Error: 0.005789459862507809\n",
      "Error: 0.004629176776769984\n",
      "Error: 0.003958765280273649\n",
      "Error: 0.003510122567861676\n",
      "Output after training:\n",
      "[[0.00260572]\n",
      " [0.99672209]\n",
      " [0.99701711]\n",
      " [0.00386759]]\n"
     ]
    }
   ],
   "source": [
    "import numpy as np\n",
    "\n",
    "def nonlin(x, deriv=False):\n",
    "    if (deriv==True):\n",
    "        return x*(1-x)\n",
    "    else:\n",
    "        return 1/(1+np.exp(-x))\n",
    "\n",
    "# input dataset as a matrix for the XOR problem\n",
    "x = np.array([[0,0,1], [0,1,1], [1,0,1], [1,1,1]])\n",
    "\n",
    "# output dataset as a matrix for the XOR problem\n",
    "y = np.array([[0], [1], [1], [0]])\n",
    "\n",
    "np.random.seed(1)\n",
    "\n",
    "# synapse matrices\n",
    "syn0 = 2*np.random.random((3,4)) - 1\n",
    "syn1 = 2*np.random.random((4,1)) - 1\n",
    "\n",
    "# training step\n",
    "for i in range(60000):\n",
    "\n",
    "    l0 = x\n",
    "    l1 = nonlin(np.dot(l0, syn0))\n",
    "    l2 = nonlin(np.dot(l1, syn1))\n",
    "\n",
    "    l2_error = y - l2\n",
    "\n",
    "    if(i % 10000) == 0:\n",
    "        print(\"Error: \" + str(np.mean(np.abs(l2_error))))\n",
    "\n",
    "    l2_delta = l2_error*nonlin(l2, deriv=True)\n",
    "\n",
    "    l1_error = l2_delta.dot(syn1.T)\n",
    "\n",
    "    l1_delta = l1_error * nonlin(l1,deriv=True)\n",
    "\n",
    "    # update synapse weights\n",
    "    syn1 += l1.T.dot(l2_delta)\n",
    "    syn0 += l0.T.dot(l1_delta)\n",
    "\n",
    "print(\"Output after training:\")\n",
    "print(l2)"
   ]
  },
  {
   "cell_type": "markdown",
   "metadata": {},
   "source": [
    "**2. Present each of the four XOR inputs as a single epoch, and run 10,000 epochs. Set the learning rate at 1. Use 2 hidden units. Show a semilog plot of the sum squared error (SSE) on the output node.**"
   ]
  },
  {
   "cell_type": "code",
   "execution_count": 7,
   "metadata": {},
   "outputs": [
    {
     "name": "stdout",
     "output_type": "stream",
     "text": [
      "Error: 0.4996610419039931\n"
     ]
    },
    {
     "data": {
      "image/png": "[encoded data removed]",
      "text/plain": [
       "<Figure size 432x288 with 1 Axes>"
      ]
     },
     "metadata": {
      "needs_background": "light"
     },
     "output_type": "display_data"
    }
   ],
   "source": [
    "import numpy as np\n",
    "import matplotlib.pyplot as plt\n",
    "\n",
    "def nonlin(x, deriv=False):\n",
    "    if (deriv==True):\n",
    "        return x*(1-x)\n",
    "    else:\n",
    "        return 1/(1+np.exp(-x))\n",
    "\n",
    "# input dataset as a matrix for the XOR problem\n",
    "x = np.array([[0,0,1], [0,1,1], [1,0,1], [1,1,1]])\n",
    "\n",
    "# output dataset as a matrix for the XOR problem\n",
    "y = np.array([[0], [1], [1], [0]])\n",
    "\n",
    "np.random.seed(1)\n",
    "\n",
    "# synapse matrices\n",
    "syn0 = 2*np.random.random((3,2)) - 1\n",
    "syn1 = 2*np.random.random((2,1)) - 1\n",
    "\n",
    "# create an empty numpy array\n",
    "squaredError = []\n",
    "\n",
    "# training step\n",
    "for i in range(10000):\n",
    "\n",
    "    l0 = x\n",
    "    l1 = nonlin(np.dot(l0, syn0))\n",
    "    l2 = nonlin(np.dot(l1, syn1))\n",
    "\n",
    "    l2_error = y - l2\n",
    "\n",
    "    # Added value to squaredError\n",
    "    squaredError.append(sum(l2_error**2))\n",
    "\n",
    "    if(i % 10000) == 0:\n",
    "        print(\"Error: \" + str(np.mean(np.abs(l2_error))))\n",
    "\n",
    "    l2_delta = l2_error*nonlin(l2, deriv=True)\n",
    "\n",
    "    l1_error = l2_delta.dot(syn1.T)\n",
    "\n",
    "    l1_delta = l1_error * nonlin(l1,deriv=True)\n",
    "\n",
    "    # update synapse weights\n",
    "    syn1 += l1.T.dot(l2_delta)\n",
    "    syn0 += l0.T.dot(l1_delta)\n",
    "\n",
    "plt.semilogy(squaredError)\n",
    "plt.show()\n"
   ]
  },
  {
   "cell_type": "markdown",
   "metadata": {},
   "source": [
    "**3. Change the number of hidden units to 20. Rerun the code and compare the semilog plot of SSE now to the plot earlier. What differences do you notice?  Was the added computational expense of more hidden units worth it in terms of performance?**"
   ]
  },
  {
   "cell_type": "code",
   "execution_count": 9,
   "metadata": {},
   "outputs": [
    {
     "name": "stdout",
     "output_type": "stream",
     "text": [
      "Error: 0.507412570412686\n"
     ]
    },
    {
     "data": {
      "image/png": "[encoded data removed]",
      "text/plain": [
       "<Figure size 432x288 with 1 Axes>"
      ]
     },
     "metadata": {
      "needs_background": "light"
     },
     "output_type": "display_data"
    }
   ],
   "source": [
    "import numpy as np\n",
    "import matplotlib.pyplot as plt\n",
    "\n",
    "def nonlin(x, deriv=False):\n",
    "    if (deriv==True):\n",
    "        return x*(1-x)\n",
    "    else:\n",
    "        return 1/(1+np.exp(-x))\n",
    "\n",
    "# input dataset as a matrix for the XOR problem\n",
    "x = np.array([[0,0,1], [0,1,1], [1,0,1], [1,1,1]])\n",
    "\n",
    "# output dataset as a matrix for the XOR problem\n",
    "y = np.array([[0], [1], [1], [0]])\n",
    "\n",
    "np.random.seed(1)\n",
    "\n",
    "# synapse matrices\n",
    "syn0 = 2*np.random.random((3,20)) - 1\n",
    "syn1 = 2*np.random.random((20,1)) - 1\n",
    "\n",
    "# create an empty numpy array\n",
    "squaredError2 = []\n",
    "\n",
    "# training step\n",
    "for i in range(10000):\n",
    "\n",
    "    l0 = x\n",
    "    l1 = nonlin(np.dot(l0, syn0))\n",
    "    l2 = nonlin(np.dot(l1, syn1))\n",
    "\n",
    "    l2_error = y - l2\n",
    "\n",
    "    # Added value to squaredError2\n",
    "    squaredError2.append(sum(l2_error**2))\n",
    "\n",
    "    if(i % 10000) == 0:\n",
    "        print(\"Error: \" + str(np.mean(np.abs(l2_error))))\n",
    "\n",
    "    l2_delta = l2_error*nonlin(l2, deriv=True)\n",
    "\n",
    "    l1_error = l2_delta.dot(syn1.T)\n",
    "\n",
    "    l1_delta = l1_error * nonlin(l1,deriv=True)\n",
    "\n",
    "    # update synapse weights\n",
    "    syn1 += l1.T.dot(l2_delta)\n",
    "    syn0 += l0.T.dot(l1_delta)\n",
    "\n",
    "plt.semilogy(squaredError)\n",
    "plt.semilogy(squaredError2, color='red')\n",
    "plt.legend(['2 Hidden Units', '20 Hidden Units'])\n",
    "plt.show()\n"
   ]
  },
  {
   "cell_type": "markdown",
   "metadata": {},
   "source": [
    "When adding 18 hidden units, the error drastically decreases and efficiency is GREATLY improved. The error reaches an almost infitesimal amount with the additional units and the computational time difference is barely noticeable. Personally, it took 0.1 seconds extra with the additional 18 hidden units. I definitely think that in this case, the additional uniots are worth it but, that does not necessary mean that the size of your layers and the number of layers in your neural network determines the usefulness of the network. More != Better."
   ]
  }
 ],
 "metadata": {
  "interpreter": {
   "hash": "38a658a53124394ac0ef1c7369b293e13d105503c6978e65670dcc7433b1ca8c"
  },
  "kernelspec": {
   "display_name": "Python 3.8.5",
   "language": "python",
   "name": "python3"
  },
  "language_info": {
   "codemirror_mode": {
    "name": "ipython",
    "version": 3
   },
   "file_extension": ".py",
   "mimetype": "text/x-python",
   "name": "python",
   "nbconvert_exporter": "python",
   "pygments_lexer": "ipython3",
   "version": "3.8.5"
  },
  "orig_nbformat": 4
 },
 "nbformat": 4,
 "nbformat_minor": 2
}
