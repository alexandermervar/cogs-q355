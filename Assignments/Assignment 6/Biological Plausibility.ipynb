{
 "cells": [
  {
   "cell_type": "markdown",
   "metadata": {},
   "source": [
    "# Mervar - Biological Plausibility\n",
    "## 2.23.2022\n",
    "\n",
    "**Assignment 5 (Backpropogation Code)**"
   ]
  },
  {
   "cell_type": "code",
   "execution_count": 4,
   "metadata": {},
   "outputs": [
    {
     "name": "stdout",
     "output_type": "stream",
     "text": [
      "Backpropogation Error: 0.49641003190272537\n",
      "Backpropogation Error: 0.008584525653247153\n",
      "Backpropogation Error: 0.005789459862507809\n",
      "Backpropogation Error: 0.004629176776769984\n",
      "Backpropogation Error: 0.003958765280273649\n",
      "Backpropogation Error: 0.003510122567861676\n",
      "Backpropogation Error: 0.0031835023858748234\n",
      "Backpropogation Error: 0.002932306342283071\n",
      "Backpropogation Error: 0.0027315064182105073\n",
      "Backpropogation Error: 0.0025663172400400267\n",
      "BACKPROPOGATION - Output after training:\n",
      "[[0.00199094]\n",
      " [0.99751458]\n",
      " [0.99771098]\n",
      " [0.00294418]]\n"
     ]
    }
   ],
   "source": [
    "import numpy as np\n",
    "\n",
    "def nonlin(x, deriv=False):\n",
    "    if (deriv==True):\n",
    "        return x*(1-x)\n",
    "    else:\n",
    "        return 1/(1+np.exp(-x))\n",
    "\n",
    "# input dataset as a matrix for the XOR problem\n",
    "x = np.array([[0,0,1], [0,1,1], [1,0,1], [1,1,1]])\n",
    "\n",
    "# output dataset as a matrix for the XOR problem\n",
    "y = np.array([[0], [1], [1], [0]])\n",
    "\n",
    "np.random.seed(1)\n",
    "\n",
    "# synapse matrices\n",
    "syn0 = 2*np.random.random((3,4)) - 1\n",
    "syn1 = 2*np.random.random((4,1)) - 1\n",
    "\n",
    "# training step\n",
    "for i in range(100000):\n",
    "\n",
    "    l0 = x\n",
    "    l1 = nonlin(np.dot(l0, syn0))\n",
    "    l2 = nonlin(np.dot(l1, syn1))\n",
    "\n",
    "    l2_error = y - l2\n",
    "\n",
    "    if(i % 10000) == 0:\n",
    "        print(\"Backpropogation Error: \" + str(np.mean(np.abs(l2_error))))\n",
    "\n",
    "    l2_delta = l2_error*nonlin(l2, deriv=True)\n",
    "\n",
    "    l1_error = l2_delta.dot(syn1.T)\n",
    "\n",
    "    l1_delta = l1_error * nonlin(l1,deriv=True)\n",
    "\n",
    "    # update synapse weights\n",
    "    syn1 += l1.T.dot(l2_delta)\n",
    "    syn0 += l0.T.dot(l1_delta)\n",
    "\n",
    "print(\"BACKPROPOGATION - Output after training:\")\n",
    "print(l2)"
   ]
  },
  {
   "cell_type": "markdown",
   "metadata": {},
   "source": [
    "### Biological Plausibility\n",
    "**1. Submit a copy of your code.**"
   ]
  },
  {
   "cell_type": "code",
   "execution_count": 5,
   "metadata": {},
   "outputs": [
    {
     "name": "stdout",
     "output_type": "stream",
     "text": [
      "Feedback Alignment Error: 0.502439933352217\n",
      "Feedback Alignment Error: 0.08466032974796642\n",
      "Feedback Alignment Error: 0.060720219749772486\n",
      "Feedback Alignment Error: 0.039479884332789254\n",
      "Feedback Alignment Error: 0.030596118532114743\n",
      "Feedback Alignment Error: 0.025749222089807913\n",
      "Feedback Alignment Error: 0.022585776817795604\n",
      "Feedback Alignment Error: 0.020315712665328767\n",
      "Feedback Alignment Error: 0.018588634303121354\n",
      "Feedback Alignment Error: 0.017220451163745456\n",
      "FEEDBACK ALIGNMENT - Output after training:\n",
      "[[0.01656882]\n",
      " [0.98277223]\n",
      " [0.98451135]\n",
      " [0.01512969]]\n"
     ]
    }
   ],
   "source": [
    "import numpy as np\n",
    "\n",
    "def nonlin(x, deriv=False):\n",
    "    if (deriv==True):\n",
    "        return x*(1-x)\n",
    "    else:\n",
    "        return 1/(1+np.exp(-x))\n",
    "\n",
    "# input dataset as a matrix for the XOR problem\n",
    "x = np.array([[0,0,1], [0,1,1], [1,0,1], [1,1,1]])\n",
    "\n",
    "# output dataset as a matrix for the XOR problem\n",
    "y = np.array([[0], [1], [1], [0]])\n",
    "\n",
    "np.random.seed(1)\n",
    "\n",
    "# synapse matrices\n",
    "forwardSyn0 = 2*np.random.random((3,10)) - 1\n",
    "forwardSyn1 = 2*np.random.random((10,1)) - 1\n",
    "# New fixed backward weights with SMALL and RANDOM values\n",
    "backwardSyn0 = 2*np.random.random((1,10)) - 1\n",
    "backwardSyn1 = 2*np.random.random((10,3)) - 1\n",
    "\n",
    "# training step\n",
    "for i in range(100000):\n",
    "\n",
    "    fl0 = x\n",
    "    fl1 = nonlin(np.dot(fl0, forwardSyn0))\n",
    "    fl2 = nonlin(np.dot(fl1, forwardSyn1))\n",
    "\n",
    "    l2_error = y - fl2\n",
    "\n",
    "    # Feedback Alignment Network Nodes\n",
    "    bl0 = fl2\n",
    "    bl1 = nonlin(np.dot(bl0, backwardSyn0))\n",
    "    bl2 = nonlin(np.dot(bl1, backwardSyn1))\n",
    "\n",
    "    if(i % 10000) == 0:\n",
    "        print(\"Feedback Alignment Error: \" + str(np.mean(np.abs(l2_error))))\n",
    "\n",
    "    # ========================\n",
    "    # Old Backpropagation Code\n",
    "    # oldl2_delta = l2_error*nonlin(fl2, deriv=True)\n",
    "\n",
    "    # oldl1_error = l2_delta.dot(forwardSyn1.T)\n",
    "\n",
    "    # oldl1_delta = l1_error * nonlin(fl1,deriv=True)\n",
    "    # ======================\n",
    "    # update synapse weights\n",
    "\n",
    "    error = y - bl0\n",
    "\n",
    "    l2_delta = error * nonlin(bl0, deriv=True)\n",
    "    l1_error = l2_delta.dot(backwardSyn0)\n",
    "    l1_delta = l1_error * nonlin(bl1,deriv=True)\n",
    "\n",
    "    forwardSyn1 += fl1.T.dot(l2_delta)\n",
    "    forwardSyn0 += fl0.T.dot(l1_delta)\n",
    "\n",
    "print(\"FEEDBACK ALIGNMENT - Output after training:\")\n",
    "print(fl2)"
   ]
  },
  {
   "cell_type": "code",
   "execution_count": null,
   "metadata": {},
   "outputs": [],
   "source": []
  }
 ],
 "metadata": {
  "interpreter": {
   "hash": "38a658a53124394ac0ef1c7369b293e13d105503c6978e65670dcc7433b1ca8c"
  },
  "kernelspec": {
   "display_name": "Python 3.8.5",
   "language": "python",
   "name": "python3"
  },
  "language_info": {
   "codemirror_mode": {
    "name": "ipython",
    "version": 3
   },
   "file_extension": ".py",
   "mimetype": "text/x-python",
   "name": "python",
   "nbconvert_exporter": "python",
   "pygments_lexer": "ipython3",
   "version": "3.8.5"
  },
  "orig_nbformat": 4
 },
 "nbformat": 4,
 "nbformat_minor": 2
}
