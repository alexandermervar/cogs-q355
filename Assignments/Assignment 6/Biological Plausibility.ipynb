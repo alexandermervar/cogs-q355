{
 "cells": [
  {
   "cell_type": "markdown",
   "metadata": {},
   "source": [
    "# Mervar - Biological Plausibility\n",
    "## 2.23.2022\n",
    "\n",
    "### Backpropogation Code (Assignment 5)"
   ]
  },
  {
   "cell_type": "code",
   "execution_count": 55,
   "metadata": {},
   "outputs": [
    {
     "name": "stdout",
     "output_type": "stream",
     "text": [
      "Backpropogation Error: 0.502439933352217\n",
      "Backpropogation Error: 0.037318487181256174\n",
      "Backpropogation Error: 0.022405480063085636\n",
      "Backpropogation Error: 0.017182458875661347\n",
      "Backpropogation Error: 0.014361007469124831\n",
      "Backpropogation Error: 0.012543633660893661\n",
      "Backpropogation Error: 0.01125360515154734\n",
      "Backpropogation Error: 0.010279468043227913\n",
      "Backpropogation Error: 0.009511611870190693\n",
      "Backpropogation Error: 0.008886960308784927\n",
      "BACKPROPOGATION - Output after training:\n",
      "[[0.00777717]\n",
      " [0.9918261 ]\n",
      " [0.99145049]\n",
      " [0.00896683]]\n"
     ]
    }
   ],
   "source": [
    "import numpy as np\n",
    "\n",
    "learningRate = 1\n",
    "\n",
    "def nonlin(x, deriv=False):\n",
    "    if (deriv==True):\n",
    "        return x*(1-x)\n",
    "    else:\n",
    "        return 1/(1+np.exp(-x))\n",
    "\n",
    "# input dataset as a matrix for the XOR problem\n",
    "x = np.array([[0,0,1], [0,1,1], [1,0,1], [1,1,1]])\n",
    "\n",
    "# output dataset as a matrix for the XOR problem\n",
    "y = np.array([[0], [1], [1], [0]])\n",
    "\n",
    "np.random.seed(1)\n",
    "\n",
    "# synapse matrices\n",
    "syn0 = 2*np.random.random((3,10)) - 1\n",
    "syn1 = 2*np.random.random((10,1)) - 1\n",
    "\n",
    "# Create an empty array for SSE\n",
    "backpropError = []\n",
    "\n",
    "# training step\n",
    "for i in range(10000):\n",
    "\n",
    "    l0 = x\n",
    "    l1 = nonlin(np.dot(l0, syn0))\n",
    "    l2 = nonlin(np.dot(l1, syn1))\n",
    "\n",
    "    l2_error = y - l2\n",
    "\n",
    "    # Add the SSE to the array\n",
    "    backpropError.append(sum(l2_error**2))\n",
    "\n",
    "    if(i % 1000) == 0:\n",
    "        print(\"Backpropogation Error: \" + str(np.mean(np.abs(l2_error))))\n",
    "\n",
    "    l2_delta = learningRate * l2_error*nonlin(l2, deriv=True)\n",
    "\n",
    "    l1_error = l2_delta.dot(syn1.T)\n",
    "\n",
    "    l1_delta = learningRate * l1_error * nonlin(l1,deriv=True)\n",
    "\n",
    "    # update synapse weights\n",
    "    syn1 += l1.T.dot(l2_delta)\n",
    "    syn0 += l0.T.dot(l1_delta)\n",
    "\n",
    "print(\"BACKPROPOGATION - Output after training:\")\n",
    "print(l2)"
   ]
  },
  {
   "cell_type": "markdown",
   "metadata": {},
   "source": [
    "### Exercise 1\n",
    "**Submit a copy of your code.**\n",
    "### Feedback Alignment"
   ]
  },
  {
   "cell_type": "code",
   "execution_count": 56,
   "metadata": {},
   "outputs": [
    {
     "name": "stdout",
     "output_type": "stream",
     "text": [
      "Feedback Alignment Error: 0.502439933352217\n",
      "Feedback Alignment Error: 0.023916711265137145\n",
      "Feedback Alignment Error: 0.01355480288929679\n",
      "Feedback Alignment Error: 0.009940128624436103\n",
      "Feedback Alignment Error: 0.008049102645006443\n",
      "Feedback Alignment Error: 0.00687051996891936\n",
      "Feedback Alignment Error: 0.0060582275629699955\n",
      "Feedback Alignment Error: 0.0054603025364596425\n",
      "Feedback Alignment Error: 0.004999242393787973\n",
      "Feedback Alignment Error: 0.004631231933715055\n",
      "FEEDBACK ALIGNMENT - Output after training:\n",
      "[[0.00230694]\n",
      " [0.99617988]\n",
      " [0.99474609]\n",
      " [0.00593839]]\n"
     ]
    }
   ],
   "source": [
    "import numpy as np\n",
    "\n",
    "def nonlin(x, deriv=False):\n",
    "    if (deriv==True):\n",
    "        return x*(1-x)\n",
    "    else:\n",
    "        return 1/(1+np.exp(-x))\n",
    "\n",
    "# input dataset as a matrix for the XOR problem\n",
    "x = np.array([[0,0,1], [0,1,1], [1,0,1], [1,1,1]])\n",
    "\n",
    "# output dataset as a matrix for the XOR problem\n",
    "y = np.array([[0], [1], [1], [0]])\n",
    "\n",
    "np.random.seed(1)\n",
    "\n",
    "# synapse matrices\n",
    "forwardSyn0 = 2*np.random.random((3,10)) - 1\n",
    "forwardSyn1 = 2*np.random.random((10,1)) - 1\n",
    "# New fixed backward weights with SMALL and RANDOM values\n",
    "backwardSyn0 = 2*np.random.random((1,10)) - 1\n",
    "\n",
    "# training step\n",
    "for i in range(10000):\n",
    "\n",
    "    fl0 = x\n",
    "    fl1 = nonlin(np.dot(fl0, forwardSyn0))\n",
    "    fl2 = nonlin(np.dot(fl1, forwardSyn1))\n",
    "\n",
    "    l2_error = y - fl2\n",
    "\n",
    "    # Feedback Alignment Network Nodes\n",
    "    bl0 = y - fl2\n",
    "    bl1 = np.dot(bl0, backwardSyn0)\n",
    "\n",
    "    if(i % 1000) == 0:\n",
    "        print(\"Feedback Alignment Error: \" + str(np.mean(np.abs(l2_error))))\n",
    "\n",
    "    # ========================\n",
    "    # Old Backpropagation Code\n",
    "    # oldl2_delta = l2_error*nonlin(fl2, deriv=True)\n",
    "\n",
    "    # oldl1_error = l2_delta.dot(forwardSyn1.T)\n",
    "\n",
    "    # oldl1_delta = l1_error * nonlin(fl1,deriv=True)\n",
    "    # ======================\n",
    "    \n",
    "    # update synapse weights\n",
    "    l2_delta = bl0 * learningRate * nonlin(fl2, deriv=True)\n",
    "    l1_delta = bl1 * learningRate * nonlin(fl1, deriv=True)\n",
    "\n",
    "    forwardSyn1 += fl1.T.dot(l2_delta)\n",
    "    forwardSyn0 += fl0.T.dot(l1_delta)\n",
    "\n",
    "print(\"FEEDBACK ALIGNMENT - Output after training:\")\n",
    "print(fl2)"
   ]
  },
  {
   "cell_type": "markdown",
   "metadata": {},
   "source": [
    "### Exercise 2\n",
    "**Run the network with**\n",
    "- **10 hidden units**\n",
    "- **10000 epochs**\n",
    "- **learning rate of 0.001** \n",
    "**Plot the SSE as a function of training epoch (with the vertical axis SSE on a log scale), and also plot the angle between the backward and forward weight vectors at the output as a function of training epoch. Submit your plots to canvas.**"
   ]
  },
  {
   "cell_type": "markdown",
   "metadata": {},
   "source": [
    "### Feedback Alignment"
   ]
  },
  {
   "cell_type": "code",
   "execution_count": 57,
   "metadata": {},
   "outputs": [
    {
     "name": "stdout",
     "output_type": "stream",
     "text": [
      "Feedback Alignment Error: 0.502439933352217\n",
      "Feedback Alignment Error: 0.5025922004630711\n",
      "Feedback Alignment Error: 0.5027575606349524\n",
      "Feedback Alignment Error: 0.5029375902451838\n",
      "Feedback Alignment Error: 0.5031315548964916\n",
      "Feedback Alignment Error: 0.5033365231244414\n",
      "Feedback Alignment Error: 0.5035473630275258\n",
      "Feedback Alignment Error: 0.5037568628460604\n",
      "Feedback Alignment Error: 0.5039560946670545\n",
      "Feedback Alignment Error: 0.5041350298044728\n",
      "FEEDBACK ALIGNMENT - Output after training:\n",
      "[[0.53544787]\n",
      " [0.49366133]\n",
      " [0.48718572]\n",
      " [0.46253193]]\n"
     ]
    },
    {
     "data": {
      "image/png": "[encoded data removed]",
      "text/plain": [
       "<Figure size 432x288 with 1 Axes>"
      ]
     },
     "metadata": {
      "needs_background": "light"
     },
     "output_type": "display_data"
    },
    {
     "data": {
      "image/png": "[encoded data removed]",
      "text/plain": [
       "<Figure size 432x288 with 1 Axes>"
      ]
     },
     "metadata": {
      "needs_background": "light"
     },
     "output_type": "display_data"
    }
   ],
   "source": [
    "import numpy as np\n",
    "import matplotlib.pyplot as plt\n",
    "import math\n",
    "\n",
    "learningRate = 0.001\n",
    "\n",
    "def nonlin(x, deriv=False):\n",
    "    if (deriv==True):\n",
    "        return x*(1-x)\n",
    "    else:\n",
    "        return 1/(1+np.exp(-x))\n",
    "\n",
    "# input dataset as a matrix for the XOR problem\n",
    "x = np.array([[0,0,1], [0,1,1], [1,0,1], [1,1,1]])\n",
    "\n",
    "# output dataset as a matrix for the XOR problem\n",
    "y = np.array([[0], [1], [1], [0]])\n",
    "\n",
    "np.random.seed(1)\n",
    "\n",
    "# synapse matrices\n",
    "forwardSyn0 = 2*np.random.random((3,10)) - 1\n",
    "forwardSyn1 = 2*np.random.random((10,1)) - 1\n",
    "# New fixed backward weights with SMALL and RANDOM values\n",
    "backwardSyn0 = 2*np.random.random((1,10)) - 1\n",
    "\n",
    "# Create an empty array for SSE\n",
    "squaredError = []\n",
    "\n",
    "# Create an empty array for the angle between weight vectors\n",
    "angle = []\n",
    "\n",
    "# training step\n",
    "for i in range(10000):\n",
    "\n",
    "    fl0 = x\n",
    "    fl1 = nonlin(np.dot(fl0, forwardSyn0))\n",
    "    fl2 = nonlin(np.dot(fl1, forwardSyn1))\n",
    "\n",
    "    l2_error = y - fl2\n",
    "\n",
    "    # Add value to squaredError array\n",
    "    squaredError.append(sum(l2_error**2))\n",
    "\n",
    "    # Feedback Alignment Network Nodes\n",
    "    bl0 = y - fl2\n",
    "    bl1 = np.dot(bl0, backwardSyn0)\n",
    "\n",
    "    if(i % 1000) == 0:\n",
    "        print(\"Feedback Alignment Error: \" + str(np.mean(np.abs(l2_error))))\n",
    "\n",
    "    # ========================\n",
    "    # Old Backpropagation Code\n",
    "    # oldl2_delta = l2_error*nonlin(fl2, deriv=True)\n",
    "\n",
    "    # oldl1_error = l2_delta.dot(forwardSyn1.T)\n",
    "\n",
    "    # oldl1_delta = l1_error * nonlin(fl1,deriv=True)\n",
    "    # ======================\n",
    "    \n",
    "    # update synapse weights\n",
    "    l2_delta = bl0 * learningRate * nonlin(fl2, deriv=True)\n",
    "    l1_delta = bl1 * learningRate * nonlin(fl1, deriv=True)\n",
    "\n",
    "    forwardSyn1 += fl1.T.dot(l2_delta)\n",
    "    forwardSyn0 += fl0.T.dot(l1_delta)\n",
    "\n",
    "    # Calculate the angle between the weight vectors backwardSyn0 and forwardSyn1\n",
    "    dotProduct = np.dot(backwardSyn0, forwardSyn1)\n",
    "    angleBetween = np.arccos(dotProduct/(np.sqrt(np.sum((backwardSyn0**2))*np.sum((forwardSyn1**2)))))\n",
    "    # Add value to angle array\n",
    "    angle.append(math.degrees(angleBetween[0][0]))\n",
    "\n",
    "print(\"FEEDBACK ALIGNMENT - Output after training:\")\n",
    "print(fl2)\n",
    "\n",
    "plt.semilogy(squaredError)\n",
    "plt.title(\"Sum Squared Error of Feedback Alignment with learningRate = 0.001\")\n",
    "plt.show()\n",
    "\n",
    "plt.plot(angle)\n",
    "plt.title(\"Angle between Forward and Backward Weight Vectors with learningRate = 0.001\")\n",
    "plt.show()"
   ]
  },
  {
   "cell_type": "markdown",
   "metadata": {},
   "source": [
    "So, these plot are correct and what I expect to see. But, because the learningRate is so low, these graphs are visually off. Please see next code block for simulation at learningRate = 1."
   ]
  },
  {
   "cell_type": "code",
   "execution_count": 59,
   "metadata": {},
   "outputs": [
    {
     "name": "stdout",
     "output_type": "stream",
     "text": [
      "Feedback Alignment Error: 0.502439933352217\n",
      "Feedback Alignment Error: 0.023916711265137145\n",
      "Feedback Alignment Error: 0.01355480288929679\n",
      "Feedback Alignment Error: 0.009940128624436103\n",
      "Feedback Alignment Error: 0.008049102645006443\n",
      "Feedback Alignment Error: 0.00687051996891936\n",
      "Feedback Alignment Error: 0.0060582275629699955\n",
      "Feedback Alignment Error: 0.0054603025364596425\n",
      "Feedback Alignment Error: 0.004999242393787973\n",
      "Feedback Alignment Error: 0.004631231933715055\n",
      "FEEDBACK ALIGNMENT - Output after training:\n",
      "[[0.00230694]\n",
      " [0.99617988]\n",
      " [0.99474609]\n",
      " [0.00593839]]\n"
     ]
    },
    {
     "data": {
      "image/png": "[encoded data removed]",
      "text/plain": [
       "<Figure size 432x288 with 1 Axes>"
      ]
     },
     "metadata": {
      "needs_background": "light"
     },
     "output_type": "display_data"
    },
    {
     "data": {
      "image/png": "[encoded data removed]",
      "text/plain": [
       "<Figure size 432x288 with 1 Axes>"
      ]
     },
     "metadata": {
      "needs_background": "light"
     },
     "output_type": "display_data"
    }
   ],
   "source": [
    "import numpy as np\n",
    "import matplotlib.pyplot as plt\n",
    "import math\n",
    "\n",
    "learningRate = 1\n",
    "\n",
    "def nonlin(x, deriv=False):\n",
    "    if (deriv==True):\n",
    "        return x*(1-x)\n",
    "    else:\n",
    "        return 1/(1+np.exp(-x))\n",
    "\n",
    "# input dataset as a matrix for the XOR problem\n",
    "x = np.array([[0,0,1], [0,1,1], [1,0,1], [1,1,1]])\n",
    "\n",
    "# output dataset as a matrix for the XOR problem\n",
    "y = np.array([[0], [1], [1], [0]])\n",
    "\n",
    "np.random.seed(1)\n",
    "\n",
    "# synapse matrices\n",
    "forwardSyn0 = 2*np.random.random((3,10)) - 1\n",
    "forwardSyn1 = 2*np.random.random((10,1)) - 1\n",
    "# New fixed backward weights with SMALL and RANDOM values\n",
    "backwardSyn0 = 2*np.random.random((1,10)) - 1\n",
    "\n",
    "# Create an empty array for SSE\n",
    "squaredError = []\n",
    "\n",
    "# Create an empty array for the angle between weight vectors\n",
    "angle = []\n",
    "\n",
    "# training step\n",
    "for i in range(10000):\n",
    "\n",
    "    fl0 = x\n",
    "    fl1 = nonlin(np.dot(fl0, forwardSyn0))\n",
    "    fl2 = nonlin(np.dot(fl1, forwardSyn1))\n",
    "\n",
    "    l2_error = y - fl2\n",
    "\n",
    "    # Add value to squaredError array\n",
    "    squaredError.append(sum(l2_error**2))\n",
    "\n",
    "    # Feedback Alignment Network Nodes\n",
    "    bl0 = y - fl2\n",
    "    bl1 = np.dot(bl0, backwardSyn0)\n",
    "\n",
    "    if(i % 1000) == 0:\n",
    "        print(\"Feedback Alignment Error: \" + str(np.mean(np.abs(l2_error))))\n",
    "\n",
    "    # ========================\n",
    "    # Old Backpropagation Code\n",
    "    # oldl2_delta = l2_error*nonlin(fl2, deriv=True)\n",
    "\n",
    "    # oldl1_error = l2_delta.dot(forwardSyn1.T)\n",
    "\n",
    "    # oldl1_delta = l1_error * nonlin(fl1,deriv=True)\n",
    "    # ======================\n",
    "    \n",
    "    # update synapse weights\n",
    "    l2_delta = bl0 * learningRate * nonlin(fl2, deriv=True)\n",
    "    l1_delta = bl1 * learningRate * nonlin(fl1, deriv=True)\n",
    "\n",
    "    forwardSyn1 += fl1.T.dot(l2_delta)\n",
    "    forwardSyn0 += fl0.T.dot(l1_delta)\n",
    "\n",
    "    # Calculate the angle between the weight vectors backwardSyn0 and forwardSyn1\n",
    "    dotProduct = np.dot(backwardSyn0, forwardSyn1)\n",
    "    angleBetween = np.arccos(dotProduct/(np.sqrt(np.sum((backwardSyn0**2))*np.sum((forwardSyn1**2)))))\n",
    "    # Add value to angle array\n",
    "    angle.append(math.degrees(angleBetween[0][0]))\n",
    "\n",
    "print(\"FEEDBACK ALIGNMENT - Output after training:\")\n",
    "print(fl2)\n",
    "\n",
    "plt.semilogy(squaredError)\n",
    "plt.semilogy(backpropError)\n",
    "plt.legend([\"Feedback Alignment Error\", \"Backpropagation Error\"])\n",
    "plt.title(\"Sum Squared Error of Feedback Alignment with learningRate = 0.001\")\n",
    "plt.show()\n",
    "\n",
    "plt.plot(angle)\n",
    "plt.title(\"Angle between Forward and Backward Weight Vectors with learningRate = 0.001\")\n",
    "plt.show()"
   ]
  },
  {
   "cell_type": "markdown",
   "metadata": {},
   "source": [
    "As you can see, the SSE is drastically going down. Compared to backprop, feedback alignment is much better. Additionally, we see the angle converge towards zero. This is because at first the weight vectors are independent of one another at first. They never get to zero because the backwards weights are fixed."
   ]
  }
 ],
 "metadata": {
  "interpreter": {
   "hash": "38a658a53124394ac0ef1c7369b293e13d105503c6978e65670dcc7433b1ca8c"
  },
  "kernelspec": {
   "display_name": "Python 3.8.5",
   "language": "python",
   "name": "python3"
  },
  "language_info": {
   "codemirror_mode": {
    "name": "ipython",
    "version": 3
   },
   "file_extension": ".py",
   "mimetype": "text/x-python",
   "name": "python",
   "nbconvert_exporter": "python",
   "pygments_lexer": "ipython3",
   "version": "3.8.5"
  },
  "orig_nbformat": 4
 },
 "nbformat": 4,
 "nbformat_minor": 2
}
